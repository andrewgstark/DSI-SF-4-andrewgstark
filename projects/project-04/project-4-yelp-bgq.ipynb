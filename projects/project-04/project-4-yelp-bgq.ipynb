{
 "cells": [
  {
   "cell_type": "markdown",
   "metadata": {},
   "source": [
    "<img src=\"http://imgur.com/1ZcRyrc.png\" style=\"float: left; margin: 15px; height: 80px\">\n",
    "\n",
    "# Project 4\n",
    "\n",
    "###  Big Query, SQL, Classification\n",
    "\n",
    "---\n",
    "\n",
    "### The Data\n",
    "\n",
    "There are 5 individual tables that have the information, contained in a Google BigQuery database.  The setup info for BigQuery is located on our DSI wiki.  You will have to query with SQL, the dataset in order to complete this project.\n",
    "\n",
    "The tables, with cooresonding attributes that exist are:\n",
    "\n",
    "### businesses\n",
    "- business_id: unique business identifier\n",
    "- name: name of the business\n",
    "- review_count: number of reviews per business\n",
    "- city: city business resides in\n",
    "- stars: average rating\n",
    "- categories: categories the business falls into (can be one or multiple)\n",
    "- latitude\n",
    "- longitude\n",
    "- neighborhoods: neighborhoods business belongs to\n",
    "- variable: \"property\" of the business (a tag)\n",
    "- value: True/False for the property\n",
    "\n",
    "### reviews\n",
    "- user_id: unique user identifier\n",
    "- review_id: unique review identifier\n",
    "- votes.cool: how many thought the review was \"cool\"\n",
    "- business_id: unique business id the review is for\n",
    "- votes.funny: how many thought the review was funny\n",
    "- stars: rating given\n",
    "- date: date of review\n",
    "- votes.useful: how many thought the review was useful\n",
    "- ... 100 columns of counts of most common 2 word phrases that appear in reviews in this review\n",
    "\n",
    "### users\n",
    "- yelping_since: signup date\n",
    "- compliments.plain: # of compliments \"plain\"\n",
    "- review_count: # of reviews:\n",
    "- compliments.cute: total # of compliments \"cute\"\n",
    "- compliments.writer: # of compliments \"writer\"\n",
    "- compliments.note: # of compliments \"note\" (not sure what this is)\n",
    "- compliments.hot: # of compliments \"hot\" (?)\n",
    "- compliments.cool: # of compliments \"cool\"\n",
    "- compliments.profile: # of compliments \"profile\"\n",
    "- average_stars: average rating\n",
    "- compliments.more: # of compliments \"more\"\n",
    "- elite: years considered \"elite\"\n",
    "- name: user's name\n",
    "- user_id: unique user id\n",
    "- votes.cool: # of votes \"cool\"\n",
    "- compliments.list: # of compliments \"list\"\n",
    "- votes.funny: # of compliments \"funny\"\n",
    "- compliments.photos: # of compliments \"photos\"\n",
    "- compliments.funny: # of compliments \"funny\"\n",
    "- votes.useful: # of votes \"useful\"\n",
    "\n",
    "### checkins\n",
    "- business_id: unique business identifier\n",
    "- variable: day-time identifier of checkins (0-0 is Sunday 0:00 - 1:00am,  for example)\n",
    "- value: # of checkins at that time\n",
    "\n",
    "### tips\n",
    "- user_id: unique user identifier\n",
    "- business_id: unique business identifier\n",
    "- likes: likes that the tip has\n",
    "- date: date of tip\n",
    "- ... 100 columns of counts of most common 2 word phrases that appear in tips in this tip\n",
    "\n",
    "\n",
    "The reviews and tips datasets in particular have parsed \"NLP\" columns with counts of 2-word phrases in that review or tip (a \"tip\", it seems, is some kind of smaller review).\n",
    "\n",
    "The user dataset has a lot of columns of counts of different compliments and votes. We're not sure whether the compliments or votes are by the user or for the user.\n",
    "\n",
    "Full details about this dataset area located here:\n",
    "https://bigquery.cloud.google.com/dataset/bigquery-dsi-dave:yelp_arizona\n",
    "\n",
    "---\n",
    "\n",
    "\n",
    "If you look at the website, or the full data, you'll see I have removed pieces of the data and cut it down quite a bit. This is to simplify it for this project. Specifically, business are limited to be in these cities:\n",
    "\n",
    "- Phoenix\n",
    "- Surprise\n",
    "- Las Vegas\n",
    "- Waterloo\n",
    "\n",
    "Apparently there is a city called \"Surprise\" in Arizona. \n",
    "\n",
    "Businesses are also restricted to at least be in one of the following categories, because we thought the mix of them was funny:\n",
    "\n",
    "- Airports\n",
    "- Breakfast & Brunch\n",
    "- Bubble Tea\n",
    "- Burgers\n",
    "- Bars\n",
    "- Bakeries\n",
    "- Breweries\n",
    "- Cafes\n",
    "- Candy Stores\n",
    "- Comedy Clubs\n",
    "- Courthouses\n",
    "- Dance Clubs\n",
    "- Fast Food\n",
    "- Museums\n",
    "- Tattoo\n",
    "- Vape Shops\n",
    "- Yoga\n",
    "    \n",
    "---\n",
    "\n",
    "### Project requirements\n",
    "\n",
    "**You will be performing 4 different sections of analysis, like in the last project.**\n",
    "\n",
    "Remember that classification targets are categorical and regression targets are continuous variables."
   ]
  },
  {
   "cell_type": "markdown",
   "metadata": {},
   "source": [
    "<img src=\"http://imgur.com/l5NasQj.png\" style=\"float: left; margin: 25px 15px 0px 0px; height: 25px\">\n",
    "\n",
    "## 1. Load your dataset(s) / setup / configure GBQ connection\n",
    "\n",
    "---\n",
    "\n",
    "Information about this dataset is located here:\n",
    "\n",
    "\n",
    "**If you haven't done so, setup a project with the Google developer portal, following the directions here: [Getting Started with BigQuery](https://github.com/ga-students/DSI-SF-4/wiki/Getting-Started-with-BigQuery)**"
   ]
  },
  {
   "cell_type": "code",
   "execution_count": 1,
   "metadata": {
    "collapsed": false
   },
   "outputs": [
    {
     "name": "stdout",
     "output_type": "stream",
     "text": [
      "Requesting query... ok.\n",
      "Query running...\n",
      "Query done.\n",
      "Processed: 25.2 Mb\n",
      "\n",
      "Retrieving results...\n",
      "Got 2500 rows.\n",
      "\n",
      "Total time taken 2.56 s.\n",
      "Finished at 2016-12-20 08:42:22.\n"
     ]
    }
   ],
   "source": [
    "import pandas as pd\n",
    "import seaborn as sns\n",
    "import numpy as np\n",
    "\n",
    "%matplotlib inline\n",
    "\n",
    "project_id = \"bigquery-dsi-andrew-stark\"\n",
    "\n",
    "sql = \"\"\"\n",
    "SELECT * FROM [bigquery-dsi-dave:yelp_arizona.businesses] \n",
    "LIMIT 2500\n",
    "\"\"\"\n",
    "\n",
    "df = pd.read_gbq(sql, project_id=project_id)"
   ]
  },
  {
   "cell_type": "code",
   "execution_count": 2,
   "metadata": {
    "collapsed": false
   },
   "outputs": [
    {
     "data": {
      "text/html": [
       "<div>\n",
       "<table border=\"1\" class=\"dataframe\">\n",
       "  <thead>\n",
       "    <tr style=\"text-align: right;\">\n",
       "      <th></th>\n",
       "      <th>business_id</th>\n",
       "      <th>name</th>\n",
       "      <th>review_count</th>\n",
       "      <th>city</th>\n",
       "      <th>stars</th>\n",
       "      <th>categories</th>\n",
       "      <th>latitude</th>\n",
       "      <th>longitude</th>\n",
       "      <th>neighborhoods</th>\n",
       "      <th>variable</th>\n",
       "      <th>value</th>\n",
       "    </tr>\n",
       "  </thead>\n",
       "  <tbody>\n",
       "    <tr>\n",
       "      <th>0</th>\n",
       "      <td>--jFTZmywe7StuZ2hEjxyA</td>\n",
       "      <td>Subway</td>\n",
       "      <td>7</td>\n",
       "      <td>Las Vegas</td>\n",
       "      <td>3.5</td>\n",
       "      <td>['Fast Food', 'Sandwiches', 'Restaurants']</td>\n",
       "      <td>36.118819</td>\n",
       "      <td>-115.182005</td>\n",
       "      <td>[]</td>\n",
       "      <td>attributes.Takes Reservations</td>\n",
       "      <td>False</td>\n",
       "    </tr>\n",
       "    <tr>\n",
       "      <th>1</th>\n",
       "      <td>--jFTZmywe7StuZ2hEjxyA</td>\n",
       "      <td>Subway</td>\n",
       "      <td>7</td>\n",
       "      <td>Las Vegas</td>\n",
       "      <td>3.5</td>\n",
       "      <td>['Fast Food', 'Sandwiches', 'Restaurants']</td>\n",
       "      <td>36.118819</td>\n",
       "      <td>-115.182005</td>\n",
       "      <td>[]</td>\n",
       "      <td>attributes.Good For.dessert</td>\n",
       "      <td>False</td>\n",
       "    </tr>\n",
       "    <tr>\n",
       "      <th>2</th>\n",
       "      <td>--jFTZmywe7StuZ2hEjxyA</td>\n",
       "      <td>Subway</td>\n",
       "      <td>7</td>\n",
       "      <td>Las Vegas</td>\n",
       "      <td>3.5</td>\n",
       "      <td>['Fast Food', 'Sandwiches', 'Restaurants']</td>\n",
       "      <td>36.118819</td>\n",
       "      <td>-115.182005</td>\n",
       "      <td>[]</td>\n",
       "      <td>attributes.Take-out</td>\n",
       "      <td>True</td>\n",
       "    </tr>\n",
       "    <tr>\n",
       "      <th>3</th>\n",
       "      <td>--jFTZmywe7StuZ2hEjxyA</td>\n",
       "      <td>Subway</td>\n",
       "      <td>7</td>\n",
       "      <td>Las Vegas</td>\n",
       "      <td>3.5</td>\n",
       "      <td>['Fast Food', 'Sandwiches', 'Restaurants']</td>\n",
       "      <td>36.118819</td>\n",
       "      <td>-115.182005</td>\n",
       "      <td>[]</td>\n",
       "      <td>attributes.Has TV</td>\n",
       "      <td>False</td>\n",
       "    </tr>\n",
       "    <tr>\n",
       "      <th>4</th>\n",
       "      <td>--jFTZmywe7StuZ2hEjxyA</td>\n",
       "      <td>Subway</td>\n",
       "      <td>7</td>\n",
       "      <td>Las Vegas</td>\n",
       "      <td>3.5</td>\n",
       "      <td>['Fast Food', 'Sandwiches', 'Restaurants']</td>\n",
       "      <td>36.118819</td>\n",
       "      <td>-115.182005</td>\n",
       "      <td>[]</td>\n",
       "      <td>attributes.Good For.breakfast</td>\n",
       "      <td>True</td>\n",
       "    </tr>\n",
       "  </tbody>\n",
       "</table>\n",
       "</div>"
      ],
      "text/plain": [
       "              business_id    name  review_count       city  stars  \\\n",
       "0  --jFTZmywe7StuZ2hEjxyA  Subway             7  Las Vegas    3.5   \n",
       "1  --jFTZmywe7StuZ2hEjxyA  Subway             7  Las Vegas    3.5   \n",
       "2  --jFTZmywe7StuZ2hEjxyA  Subway             7  Las Vegas    3.5   \n",
       "3  --jFTZmywe7StuZ2hEjxyA  Subway             7  Las Vegas    3.5   \n",
       "4  --jFTZmywe7StuZ2hEjxyA  Subway             7  Las Vegas    3.5   \n",
       "\n",
       "                                   categories   latitude   longitude  \\\n",
       "0  ['Fast Food', 'Sandwiches', 'Restaurants']  36.118819 -115.182005   \n",
       "1  ['Fast Food', 'Sandwiches', 'Restaurants']  36.118819 -115.182005   \n",
       "2  ['Fast Food', 'Sandwiches', 'Restaurants']  36.118819 -115.182005   \n",
       "3  ['Fast Food', 'Sandwiches', 'Restaurants']  36.118819 -115.182005   \n",
       "4  ['Fast Food', 'Sandwiches', 'Restaurants']  36.118819 -115.182005   \n",
       "\n",
       "  neighborhoods                       variable  value  \n",
       "0            []  attributes.Takes Reservations  False  \n",
       "1            []    attributes.Good For.dessert  False  \n",
       "2            []            attributes.Take-out   True  \n",
       "3            []              attributes.Has TV  False  \n",
       "4            []  attributes.Good For.breakfast   True  "
      ]
     },
     "execution_count": 2,
     "metadata": {},
     "output_type": "execute_result"
    }
   ],
   "source": [
    "#df.categories.value_counts()\n",
    "df.head()"
   ]
  },
  {
   "cell_type": "code",
   "execution_count": null,
   "metadata": {
    "collapsed": false
   },
   "outputs": [],
   "source": []
  },
  {
   "cell_type": "markdown",
   "metadata": {},
   "source": [
    "<img src=\"http://imgur.com/l5NasQj.png\" style=\"float: left; margin: 25px 15px 0px 0px; height: 25px\">\n",
    "\n",
    "## 2. Constructing a \"profile\" for Las Vegas\n",
    "\n",
    "---\n",
    "\n",
    "Yelp is interested in building out what they are calling \"profiles\" for cities. They want you to start with just Las Vegas to see what a prototype of this would look like. Essentially, they want to know what makes Las Vegas distinct from the other four.\n",
    "\n",
    "Use the data you have to predict Las Vegas from the other variables you have. You should not be predicting the city from any kind of location data or other data perfectly associated with that city (or another city).\n",
    "\n",
    "You may use any classification algorithm you deem appropriate, or even multiple models. You should:\n",
    "\n",
    "1. Build at least one model predicting Las Vegas vs. the other cities.\n",
    "- Validate your model(s).\n",
    "- Interpret and visualize, in some way, the results.\n",
    "- Write up a \"profile\" for Las Vegas. This should be a writeup converting your findings from the model(s) into a human-readable description of the city.\n",
    "\n",
    "*Research location data to find the city targets.*"
   ]
  },
  {
   "cell_type": "code",
   "execution_count": 3,
   "metadata": {
    "collapsed": true
   },
   "outputs": [],
   "source": [
    "#Create a column \"is_lasvegas\" where 0 is no, 1 is yes\n",
    "df['is_lasvegas'] = df['city'].map(lambda x: 1 if x == \"Las Vegas\" else 0)"
   ]
  },
  {
   "cell_type": "code",
   "execution_count": 5,
   "metadata": {
    "collapsed": false
   },
   "outputs": [
    {
     "data": {
      "text/plain": [
       "0    2141\n",
       "1     359\n",
       "Name: is_lasvegas, dtype: int64"
      ]
     },
     "execution_count": 5,
     "metadata": {},
     "output_type": "execute_result"
    }
   ],
   "source": [
    "df.is_lasvegas.value_counts()"
   ]
  },
  {
   "cell_type": "code",
   "execution_count": 6,
   "metadata": {
    "collapsed": false
   },
   "outputs": [],
   "source": [
    "# The following are the top 20 most common category combinations for the businesses\n",
    "# Create 20 columns \"is_profile_x\" to track if the restaurant has a given category combination\n",
    "\n",
    "#1 ['Burgers', 'Fast Food', 'Restaurants']                                                          194\n",
    "#2 ['Breakfast & Brunch', 'American (Traditional)', 'Restaurants']                                  138\n",
    "#3 ['Wine Bars', 'Bars', 'American (New)', 'Nightlife', 'Restaurants']                              120\n",
    "#4 ['Fast Food', 'Restaurants']                                                                     117\n",
    "#5 ['Fast Food', 'Mexican', 'Restaurants']                                                           95\n",
    "#6 ['American (Traditional)', 'Fast Food', 'Restaurants']                                            89\n",
    "#7 ['Fast Food', 'Sandwiches', 'Restaurants']                                                        79\n",
    "#8 ['Burgers', 'Restaurants']                                                                        75\n",
    "#9 ['Breakfast & Brunch', 'Restaurants']                                                             73\n",
    "#10 ['Delis', 'Fast Food', 'Sandwiches', 'Restaurants']                                               65\n",
    "#11 ['Puerto Rican', 'Bars', 'Latin American', 'Caribbean', 'Nightlife', 'Restaurants']               58\n",
    "#12 ['Irish', 'Music Venues', 'Arts & Entertainment', 'Bars', 'Pubs', 'Nightlife', 'Restaurants']     58\n",
    "#13 ['Bars', 'Restaurants', 'American (Traditional)', 'Karaoke', 'Nightlife']                         58\n",
    "#14 ['Bars', 'American (Traditional)', 'Nightlife', 'Restaurants']                                    56\n",
    "#15 ['Bars', 'Food', 'Beer, Wine & Spirits', 'Dive Bars', 'Nightlife', 'Karaoke']                     56\n",
    "#16 ['Bars', 'Restaurants', 'American (Traditional)', 'Sports Bars', 'Nightlife']                     55\n",
    "#17 ['Breakfast & Brunch', 'Cafes', 'American (Traditional)', 'Restaurants']                          55\n",
    "#18 ['Burgers', 'American (Traditional)', 'Restaurants']                                              52\n",
    "#19 ['Fast Food', 'Mexican', 'Tex-Mex', 'Restaurants']                                                51\n",
    "#20 ['Breakfast & Brunch', 'American (Traditional)', 'Diners', 'Restaurants']                         51\n",
    "\n",
    "df['is_profile_1'] = df['categories'].map(lambda x: 1 if x == \"['Burgers', 'Fast Food', 'Restaurants']\" else 0)\n",
    "df['is_profile_2'] = df['categories'].map(lambda x: 1 if x == \"['Breakfast & Brunch', 'American (Traditional)', 'Restaurants']\" else 0)\n",
    "df['is_profile_3'] = df['categories'].map(lambda x: 1 if x == \"['Wine Bars', 'Bars', 'American (New)', 'Nightlife', 'Restaurants']\" else 0)\n",
    "df['is_profile_4'] = df['categories'].map(lambda x: 1 if x == \"['Fast Food', 'Restaurants']\" else 0)\n",
    "df['is_profile_5'] = df['categories'].map(lambda x: 1 if x == \"['Fast Food', 'Mexican', 'Restaurants']\" else 0)\n",
    "df['is_profile_6'] = df['categories'].map(lambda x: 1 if x == \"['American (Traditional)', 'Fast Food', 'Restaurants']\" else 0)\n",
    "df['is_profile_7'] = df['categories'].map(lambda x: 1 if x == \"['Fast Food', 'Sandwiches', 'Restaurants']\" else 0)\n",
    "df['is_profile_8'] = df['categories'].map(lambda x: 1 if x == \"['Burgers', 'Restaurants']\" else 0)\n",
    "df['is_profile_9'] = df['categories'].map(lambda x: 1 if x == \"['Breakfast & Brunch', 'Restaurants']\" else 0)\n",
    "df['is_profile_10'] = df['categories'].map(lambda x: 1 if x == \"['Delis', 'Fast Food', 'Sandwiches', 'Restaurants']\" else 0)\n",
    "df['is_profile_11'] = df['categories'].map(lambda x: 1 if x == \"['Puerto Rican', 'Bars', 'Latin American', 'Caribbean', 'Nightlife', 'Restaurants']\" else 0)\n",
    "df['is_profile_12'] = df['categories'].map(lambda x: 1 if x == \"['Irish', 'Music Venues', 'Arts & Entertainment', 'Bars', 'Pubs', 'Nightlife', 'Restaurants']\" else 0)\n",
    "df['is_profile_13'] = df['categories'].map(lambda x: 1 if x == \"['Bars', 'Restaurants', 'American (Traditional)', 'Karaoke', 'Nightlife']\" else 0)\n",
    "df['is_profile_14'] = df['categories'].map(lambda x: 1 if x == \"['Bars', 'American (Traditional)', 'Nightlife', 'Restaurants']\" else 0)\n",
    "df['is_profile_15'] = df['categories'].map(lambda x: 1 if x == \"['Bars', 'Food', 'Beer, Wine & Spirits', 'Dive Bars', 'Nightlife', 'Karaoke']\" else 0)\n",
    "df['is_profile_16'] = df['categories'].map(lambda x: 1 if x == \"['Bars', 'Restaurants', 'American (Traditional)', 'Sports Bars', 'Nightlife']\" else 0)\n",
    "df['is_profile_17'] = df['categories'].map(lambda x: 1 if x == \"['Breakfast & Brunch', 'Cafes', 'American (Traditional)', 'Restaurants']\" else 0)\n",
    "df['is_profile_18'] = df['categories'].map(lambda x: 1 if x == \"['Burgers', 'American (Traditional)', 'Restaurants']\" else 0)\n",
    "df['is_profile_19'] = df['categories'].map(lambda x: 1 if x == \"['Fast Food', 'Mexican', 'Tex-Mex', 'Restaurants']\" else 0)\n",
    "df['is_profile_20'] = df['categories'].map(lambda x: 1 if x == \"['Breakfast & Brunch', 'American (Traditional)', 'Diners', 'Restaurants']\" else 0)"
   ]
  },
  {
   "cell_type": "code",
   "execution_count": 9,
   "metadata": {
    "collapsed": false
   },
   "outputs": [
    {
     "data": {
      "text/plain": [
       "0    2449\n",
       "1      51\n",
       "Name: is_profile_20, dtype: int64"
      ]
     },
     "execution_count": 9,
     "metadata": {},
     "output_type": "execute_result"
    }
   ],
   "source": [
    "# Verify the columns and values were created as expected\n",
    "df.is_profile_20.value_counts()"
   ]
  },
  {
   "cell_type": "code",
   "execution_count": 19,
   "metadata": {
    "collapsed": false
   },
   "outputs": [
    {
     "data": {
      "text/plain": [
       "0.8564"
      ]
     },
     "execution_count": 19,
     "metadata": {},
     "output_type": "execute_result"
    }
   ],
   "source": [
    "# Calculate the baseline accuracy. This is the probabiblity of predicting the city correctly, by always\n",
    "# guessing the majority case i.e., not Las Vegas.\n",
    "\n",
    "baseline_acc = 1. - df.is_lasvegas.mean()\n",
    "baseline_acc"
   ]
  },
  {
   "cell_type": "code",
   "execution_count": 20,
   "metadata": {
    "collapsed": false
   },
   "outputs": [],
   "source": [
    "# Q1: use KNN to predict whether business is in Las Vegas\n",
    "\n",
    "from sklearn.neighbors import KNeighborsClassifier\n",
    "\n",
    "predictor_matrix = df[[\"is_profile_1\", \"is_profile_2\", \"is_profile_3\", \"is_profile_4\",\"is_profile_5\",\"is_profile_6\", \"is_profile_7\", \"is_profile_8\", \"is_profile_9\",\"is_profile_10\",\"is_profile_11\", \"is_profile_12\", \"is_profile_13\", \"is_profile_14\",\"is_profile_15\",\"is_profile_16\", \"is_profile_17\", \"is_profile_18\", \"is_profile_19\",\"is_profile_20\"]]\n",
    "y = df.is_lasvegas.values\n",
    "X = predictor_matrix.iloc[:, 0:100]\n",
    "\n",
    "knn = KNeighborsClassifier()"
   ]
  },
  {
   "cell_type": "code",
   "execution_count": 21,
   "metadata": {
    "collapsed": false
   },
   "outputs": [
    {
     "name": "stdout",
     "output_type": "stream",
     "text": [
      "[ 0.92430279  0.792       1.          1.          0.844       0.856       0.856\n",
      "  0.74        0.856       0.85943775]\n",
      "0.872774053985\n"
     ]
    }
   ],
   "source": [
    "# Q2: predicting the business' location using KNN is marginally better\n",
    "# than the baseline accuracy\n",
    "\n",
    "from sklearn.cross_validation import cross_val_score\n",
    "\n",
    "accs = cross_val_score(knn, X, y, cv=10)\n",
    "print accs\n",
    "print np.mean(accs)"
   ]
  },
  {
   "cell_type": "code",
   "execution_count": 13,
   "metadata": {
    "collapsed": false
   },
   "outputs": [
    {
     "data": {
      "text/plain": [
       "KNeighborsClassifier(algorithm='auto', leaf_size=30, metric='minkowski',\n",
       "           metric_params=None, n_jobs=1, n_neighbors=5, p=2,\n",
       "           weights='uniform')"
      ]
     },
     "execution_count": 13,
     "metadata": {},
     "output_type": "execute_result"
    }
   ],
   "source": [
    "knn.fit(X, y)"
   ]
  },
  {
   "cell_type": "code",
   "execution_count": 14,
   "metadata": {
    "collapsed": false
   },
   "outputs": [
    {
     "data": {
      "text/plain": [
       "array([1, 1, 1, 1, 1, 1, 1, 1, 1, 1])"
      ]
     },
     "execution_count": 14,
     "metadata": {},
     "output_type": "execute_result"
    }
   ],
   "source": [
    "knn.predict(X.iloc[0:10, :])"
   ]
  },
  {
   "cell_type": "code",
   "execution_count": 295,
   "metadata": {
    "collapsed": false
   },
   "outputs": [
    {
     "data": {
      "text/plain": [
       "array([[ 0.,  1.],\n",
       "       [ 0.,  1.],\n",
       "       [ 0.,  1.],\n",
       "       [ 0.,  1.],\n",
       "       [ 0.,  1.],\n",
       "       [ 0.,  1.],\n",
       "       [ 0.,  1.],\n",
       "       [ 0.,  1.],\n",
       "       [ 0.,  1.],\n",
       "       [ 0.,  1.]])"
      ]
     },
     "execution_count": 295,
     "metadata": {},
     "output_type": "execute_result"
    }
   ],
   "source": [
    "knn.predict_proba(X.iloc[0:10, :])"
   ]
  },
  {
   "cell_type": "code",
   "execution_count": 15,
   "metadata": {
    "collapsed": true
   },
   "outputs": [],
   "source": [
    "predicted = knn.predict(X)"
   ]
  },
  {
   "cell_type": "code",
   "execution_count": 16,
   "metadata": {
    "collapsed": false
   },
   "outputs": [
    {
     "name": "stdout",
     "output_type": "stream",
     "text": [
      "172 60 2081 187\n"
     ]
    }
   ],
   "source": [
    "# Calculate the true and false positives/negatives:\n",
    "\n",
    "tp = np.sum((y == 1) & (predicted == 1))\n",
    "fp = np.sum((y == 0) & (predicted == 1))\n",
    "tn = np.sum((y == 0) & (predicted == 0))\n",
    "fn = np.sum((y == 1) & (predicted == 0))\n",
    "print tp, fp, tn, fn"
   ]
  },
  {
   "cell_type": "code",
   "execution_count": 17,
   "metadata": {
    "collapsed": true
   },
   "outputs": [],
   "source": [
    "from sklearn.metrics import confusion_matrix"
   ]
  },
  {
   "cell_type": "code",
   "execution_count": 18,
   "metadata": {
    "collapsed": false
   },
   "outputs": [
    {
     "data": {
      "text/plain": [
       "array([[2081,   60],\n",
       "       [ 187,  172]])"
      ]
     },
     "execution_count": 18,
     "metadata": {},
     "output_type": "execute_result"
    }
   ],
   "source": [
    "# Confusion matrix same as above\n",
    "\n",
    "confusion_matrix(y, predicted)"
   ]
  },
  {
   "cell_type": "code",
   "execution_count": null,
   "metadata": {
    "collapsed": true
   },
   "outputs": [],
   "source": [
    "#3 : Scatter or pairplot could be used to visually represent model's results\n",
    "#4: ?"
   ]
  },
  {
   "cell_type": "markdown",
   "metadata": {},
   "source": [
    "<img src=\"http://imgur.com/l5NasQj.png\" style=\"float: left; margin: 25px 15px 0px 0px; height: 25px\">\n",
    "\n",
    "## 3. Different categories of ratings\n",
    "\n",
    "---\n",
    "\n",
    "Yelp is finally ready to admit that their rating system sucks. No one cares about the ratings, they just use the site to find out what's nearby. The ratings are simply too unreliable for people. \n",
    "\n",
    "Yelp hypothesizes that this is, in fact, because different people tend to give their ratings based on different things. They believe that perhaps some people always base their ratings on quality of food, others on service, and perhaps other categories as well. \n",
    "\n",
    "1. Do some users tend to talk about service more than others in reviews/tips? Divide up the tips/reviews into more \"service-focused\" ones and those less concerned with service.\n",
    "2. Create two new ratings for businesses: ratings from just the service-focused reviews and ratings from the non-service reviews.\n",
    "3. Construct a regression model for each of the two ratings. They should use the same predictor variables (of your choice). \n",
    "4. Validate the performance of the models.\n",
    "5. Do the models coefficients differ at all? What does this tell you about the hypothesis that there are in fact two different kinds of ratings?"
   ]
  },
  {
   "cell_type": "code",
   "execution_count": 83,
   "metadata": {
    "collapsed": false
   },
   "outputs": [
    {
     "name": "stdout",
     "output_type": "stream",
     "text": [
      "Requesting query... ok.\n",
      "Query running...\n",
      "Query done.\n",
      "Cache hit.\n",
      "\n",
      "Retrieving results...\n",
      "Got 2500 rows.\n",
      "\n",
      "Total time taken 4.84 s.\n",
      "Finished at 2016-12-20 10:17:42.\n"
     ]
    }
   ],
   "source": [
    "import pandas as pd\n",
    "import seaborn as sns\n",
    "import numpy as np\n",
    "\n",
    "%matplotlib inline\n",
    "\n",
    "project_id = \"bigquery-dsi-andrew-stark\"\n",
    "\n",
    "sql = \"\"\"\n",
    "SELECT * FROM [bigquery-dsi-dave:yelp_arizona.reviews] \n",
    "LIMIT 2500\n",
    "\"\"\"\n",
    "\n",
    "df_reviews = pd.read_gbq(sql, project_id=project_id)"
   ]
  },
  {
   "cell_type": "code",
   "execution_count": 84,
   "metadata": {
    "collapsed": false
   },
   "outputs": [],
   "source": [
    "# Create a list of \"service-focused\" terms:\n",
    "service_focused_terms = ['bottle_service','customer_service', 'food_service','friendly_staff', 'good_service', 'good_time', 'great_atmosphere','great_experience', 'great_place', 'great_service','great_time', 'place_good', 'place_great','really_enjoyed', 'really_good', 'really_like', 'really_nice','recommend_place', 'service_excellent', 'service_food','service_friendly', 'service_good', 'service_great','staff_friendly', 'super_friendly']"
   ]
  },
  {
   "cell_type": "code",
   "execution_count": 85,
   "metadata": {
    "collapsed": true
   },
   "outputs": [],
   "source": [
    "#Create a list of zeroes, to initially set the \"is_service_focused\" column\n",
    "is_service_focused = []\n",
    "for i in range(0,2500):\n",
    "    is_service_focused.append(0)"
   ]
  },
  {
   "cell_type": "code",
   "execution_count": 86,
   "metadata": {
    "collapsed": false
   },
   "outputs": [],
   "source": [
    "# Set \"is_service_focused\" to 0 if there's a service-focused term used in the review\n",
    "\n",
    "for item in service_focused_terms:\n",
    "    presence = df_reviews[item].values\n",
    "    for i in range(0,len(presence)):\n",
    "        if presence[i]== 1:\n",
    "            is_service_focused[i] = 1"
   ]
  },
  {
   "cell_type": "code",
   "execution_count": 87,
   "metadata": {
    "collapsed": false
   },
   "outputs": [],
   "source": [
    "#Creat a column in the dataframe, to track if there is a \"service-focused term\" in the review\n",
    "\n",
    "df_reviews[\"is_service_focused\"] = is_service_focused"
   ]
  },
  {
   "cell_type": "code",
   "execution_count": 88,
   "metadata": {
    "collapsed": false
   },
   "outputs": [
    {
     "data": {
      "text/plain": [
       "0    1891\n",
       "1     609\n",
       "Name: is_service_focused, dtype: int64"
      ]
     },
     "execution_count": 88,
     "metadata": {},
     "output_type": "execute_result"
    }
   ],
   "source": [
    "df_reviews[\"is_service_focused\"].value_counts()"
   ]
  },
  {
   "cell_type": "code",
   "execution_count": 82,
   "metadata": {
    "collapsed": false
   },
   "outputs": [
    {
     "data": {
      "text/plain": [
       "3    963\n",
       "1    635\n",
       "2    560\n",
       "4    342\n",
       "Name: stars, dtype: int64"
      ]
     },
     "execution_count": 82,
     "metadata": {},
     "output_type": "execute_result"
    }
   ],
   "source": [
    "# See the number of stars for each review\n",
    "\n",
    "df_reviews.stars.value_counts()"
   ]
  },
  {
   "cell_type": "code",
   "execution_count": 89,
   "metadata": {
    "collapsed": false
   },
   "outputs": [],
   "source": [
    "# Split the dataframe of reviews into 2 - service-focused and not  service-focused\n",
    "\n",
    "df_is_service_focused = df_reviews[df_reviews[\"is_service_focused\"]==1]\n",
    "df_not_service_focused = df_reviews[df_reviews[\"is_service_focused\"]!=1]"
   ]
  },
  {
   "cell_type": "code",
   "execution_count": 364,
   "metadata": {
    "collapsed": false
   },
   "outputs": [],
   "source": []
  },
  {
   "cell_type": "code",
   "execution_count": 356,
   "metadata": {
    "collapsed": false
   },
   "outputs": [
    {
     "data": {
      "text/plain": [
       "dtype('int64')"
      ]
     },
     "execution_count": 356,
     "metadata": {},
     "output_type": "execute_result"
    }
   ],
   "source": [
    "df_reviews.bottle_service.dtypes"
   ]
  },
  {
   "cell_type": "code",
   "execution_count": 303,
   "metadata": {
    "collapsed": false
   },
   "outputs": [
    {
     "name": "stdout",
     "output_type": "stream",
     "text": [
      "Requesting query... ok.\n",
      "Query running...\n",
      "Query done.\n",
      "Processed: 84.0 Mb\n",
      "\n",
      "Retrieving results...\n",
      "Got 2500 rows.\n",
      "\n",
      "Total time taken 5.76 s.\n",
      "Finished at 2016-12-18 18:56:44.\n"
     ]
    }
   ],
   "source": [
    "import pandas as pd\n",
    "import seaborn as sns\n",
    "import numpy as np\n",
    "\n",
    "%matplotlib inline\n",
    "\n",
    "project_id = \"bigquery-dsi-andrew-stark\"\n",
    "\n",
    "sql = \"\"\"\n",
    "SELECT * FROM [bigquery-dsi-dave:yelp_arizona.tips] \n",
    "LIMIT 2500\n",
    "\"\"\"\n",
    "\n",
    "df_tips = pd.read_gbq(sql, project_id=project_id)"
   ]
  },
  {
   "cell_type": "code",
   "execution_count": 304,
   "metadata": {
    "collapsed": false
   },
   "outputs": [
    {
     "data": {
      "text/html": [
       "<div>\n",
       "<table border=\"1\" class=\"dataframe\">\n",
       "  <thead>\n",
       "    <tr style=\"text-align: right;\">\n",
       "      <th></th>\n",
       "      <th>user_id</th>\n",
       "      <th>business_id</th>\n",
       "      <th>likes</th>\n",
       "      <th>date</th>\n",
       "      <th>hours_24</th>\n",
       "      <th>amazing_food</th>\n",
       "      <th>animal_style</th>\n",
       "      <th>awesome_food</th>\n",
       "      <th>awesome_place</th>\n",
       "      <th>awesome_service</th>\n",
       "      <th>...</th>\n",
       "      <th>service_good</th>\n",
       "      <th>service_great</th>\n",
       "      <th>slow_service</th>\n",
       "      <th>staff_friendly</th>\n",
       "      <th>staff_great</th>\n",
       "      <th>steak_eggs</th>\n",
       "      <th>super_friendly</th>\n",
       "      <th>sweet_potato</th>\n",
       "      <th>velvet_pancakes</th>\n",
       "      <th>worth_wait</th>\n",
       "    </tr>\n",
       "  </thead>\n",
       "  <tbody>\n",
       "    <tr>\n",
       "      <th>0</th>\n",
       "      <td>VkTuaLUtRDIioAeicDGang</td>\n",
       "      <td>--jFTZmywe7StuZ2hEjxyA</td>\n",
       "      <td>0</td>\n",
       "      <td>2012-01-04</td>\n",
       "      <td>0</td>\n",
       "      <td>0</td>\n",
       "      <td>0</td>\n",
       "      <td>0</td>\n",
       "      <td>0</td>\n",
       "      <td>0</td>\n",
       "      <td>...</td>\n",
       "      <td>0</td>\n",
       "      <td>0</td>\n",
       "      <td>0</td>\n",
       "      <td>0</td>\n",
       "      <td>0</td>\n",
       "      <td>0</td>\n",
       "      <td>0</td>\n",
       "      <td>0</td>\n",
       "      <td>0</td>\n",
       "      <td>0</td>\n",
       "    </tr>\n",
       "    <tr>\n",
       "      <th>1</th>\n",
       "      <td>3yLjzX-5AU76zIEkmUpiMQ</td>\n",
       "      <td>--jFTZmywe7StuZ2hEjxyA</td>\n",
       "      <td>0</td>\n",
       "      <td>2013-09-03</td>\n",
       "      <td>0</td>\n",
       "      <td>0</td>\n",
       "      <td>0</td>\n",
       "      <td>0</td>\n",
       "      <td>0</td>\n",
       "      <td>0</td>\n",
       "      <td>...</td>\n",
       "      <td>0</td>\n",
       "      <td>0</td>\n",
       "      <td>0</td>\n",
       "      <td>0</td>\n",
       "      <td>0</td>\n",
       "      <td>0</td>\n",
       "      <td>0</td>\n",
       "      <td>0</td>\n",
       "      <td>0</td>\n",
       "      <td>0</td>\n",
       "    </tr>\n",
       "    <tr>\n",
       "      <th>2</th>\n",
       "      <td>DDvHjP7wh5bqmIfqjcdwWw</td>\n",
       "      <td>--jFTZmywe7StuZ2hEjxyA</td>\n",
       "      <td>0</td>\n",
       "      <td>2013-05-18</td>\n",
       "      <td>0</td>\n",
       "      <td>0</td>\n",
       "      <td>0</td>\n",
       "      <td>0</td>\n",
       "      <td>0</td>\n",
       "      <td>0</td>\n",
       "      <td>...</td>\n",
       "      <td>0</td>\n",
       "      <td>0</td>\n",
       "      <td>0</td>\n",
       "      <td>0</td>\n",
       "      <td>0</td>\n",
       "      <td>0</td>\n",
       "      <td>0</td>\n",
       "      <td>0</td>\n",
       "      <td>0</td>\n",
       "      <td>0</td>\n",
       "    </tr>\n",
       "    <tr>\n",
       "      <th>3</th>\n",
       "      <td>fx1jNuoZjyn0t5g2KUeksw</td>\n",
       "      <td>-0HGqwlfw3I8nkJyMHxAsQ</td>\n",
       "      <td>0</td>\n",
       "      <td>2014-02-15</td>\n",
       "      <td>0</td>\n",
       "      <td>0</td>\n",
       "      <td>0</td>\n",
       "      <td>0</td>\n",
       "      <td>0</td>\n",
       "      <td>0</td>\n",
       "      <td>...</td>\n",
       "      <td>0</td>\n",
       "      <td>0</td>\n",
       "      <td>0</td>\n",
       "      <td>0</td>\n",
       "      <td>0</td>\n",
       "      <td>0</td>\n",
       "      <td>0</td>\n",
       "      <td>0</td>\n",
       "      <td>0</td>\n",
       "      <td>0</td>\n",
       "    </tr>\n",
       "    <tr>\n",
       "      <th>4</th>\n",
       "      <td>x0oIvyOtyH3rUDCfuUN40Q</td>\n",
       "      <td>-0HGqwlfw3I8nkJyMHxAsQ</td>\n",
       "      <td>0</td>\n",
       "      <td>2014-05-23</td>\n",
       "      <td>0</td>\n",
       "      <td>0</td>\n",
       "      <td>0</td>\n",
       "      <td>0</td>\n",
       "      <td>0</td>\n",
       "      <td>0</td>\n",
       "      <td>...</td>\n",
       "      <td>0</td>\n",
       "      <td>0</td>\n",
       "      <td>0</td>\n",
       "      <td>0</td>\n",
       "      <td>0</td>\n",
       "      <td>0</td>\n",
       "      <td>0</td>\n",
       "      <td>0</td>\n",
       "      <td>0</td>\n",
       "      <td>0</td>\n",
       "    </tr>\n",
       "  </tbody>\n",
       "</table>\n",
       "<p>5 rows × 104 columns</p>\n",
       "</div>"
      ],
      "text/plain": [
       "                  user_id             business_id  likes        date  \\\n",
       "0  VkTuaLUtRDIioAeicDGang  --jFTZmywe7StuZ2hEjxyA      0  2012-01-04   \n",
       "1  3yLjzX-5AU76zIEkmUpiMQ  --jFTZmywe7StuZ2hEjxyA      0  2013-09-03   \n",
       "2  DDvHjP7wh5bqmIfqjcdwWw  --jFTZmywe7StuZ2hEjxyA      0  2013-05-18   \n",
       "3  fx1jNuoZjyn0t5g2KUeksw  -0HGqwlfw3I8nkJyMHxAsQ      0  2014-02-15   \n",
       "4  x0oIvyOtyH3rUDCfuUN40Q  -0HGqwlfw3I8nkJyMHxAsQ      0  2014-05-23   \n",
       "\n",
       "   hours_24  amazing_food  animal_style  awesome_food  awesome_place  \\\n",
       "0         0             0             0             0              0   \n",
       "1         0             0             0             0              0   \n",
       "2         0             0             0             0              0   \n",
       "3         0             0             0             0              0   \n",
       "4         0             0             0             0              0   \n",
       "\n",
       "   awesome_service     ...      service_good  service_great  slow_service  \\\n",
       "0                0     ...                 0              0             0   \n",
       "1                0     ...                 0              0             0   \n",
       "2                0     ...                 0              0             0   \n",
       "3                0     ...                 0              0             0   \n",
       "4                0     ...                 0              0             0   \n",
       "\n",
       "   staff_friendly  staff_great  steak_eggs  super_friendly  sweet_potato  \\\n",
       "0               0            0           0               0             0   \n",
       "1               0            0           0               0             0   \n",
       "2               0            0           0               0             0   \n",
       "3               0            0           0               0             0   \n",
       "4               0            0           0               0             0   \n",
       "\n",
       "   velvet_pancakes  worth_wait  \n",
       "0                0           0  \n",
       "1                0           0  \n",
       "2                0           0  \n",
       "3                0           0  \n",
       "4                0           0  \n",
       "\n",
       "[5 rows x 104 columns]"
      ]
     },
     "execution_count": 304,
     "metadata": {},
     "output_type": "execute_result"
    }
   ],
   "source": [
    "df_tips.head()"
   ]
  },
  {
   "cell_type": "code",
   "execution_count": null,
   "metadata": {
    "collapsed": true
   },
   "outputs": [],
   "source": [
    "# Ran out of time. I'm spending lots of time trying to learn and understand the concepts, which leaves insufficient\n",
    "# time to complete the project. Will review over Xmas break."
   ]
  },
  {
   "cell_type": "markdown",
   "metadata": {},
   "source": [
    "<img src=\"http://imgur.com/l5NasQj.png\" style=\"float: left; margin: 25px 15px 0px 0px; height: 25px\">\n",
    "\n",
    "## 4. Identifying \"elite\" users\n",
    "\n",
    "---\n",
    "\n",
    "Yelp, though having their own formula for determining whether a user is elite or not, is interested in delving deeper into what differentiates an elite user from a normal user at a broader level.\n",
    "\n",
    "Use a classification model to predict whether a user is elite or not. Note that users can be elite in some years and not in others.\n",
    "\n",
    "1. What things predict well whether a user is elite or not?\n",
    "- Validate the model.\n",
    "- If you were to remove the \"counts\" metrics for users (reviews, votes, compliments), what distinguishes an elite user, if anything? Validate the model and compare it to the one with the count variables.\n",
    "- Think of a way to visually represent your results in a compelling way.\n",
    "- Give a brief write-up of your findings.\n"
   ]
  },
  {
   "cell_type": "code",
   "execution_count": null,
   "metadata": {
    "collapsed": true
   },
   "outputs": [],
   "source": []
  },
  {
   "cell_type": "markdown",
   "metadata": {},
   "source": [
    "<img src=\"http://imgur.com/GCAf1UX.png\" style=\"float: left; margin: 25px 15px 0px 0px; height: 25px\">\n",
    "\n",
    "## 5. Find something interesting on your own\n",
    "\n",
    "---\n",
    "\n",
    "You want to impress your superiors at Yelp by doing some investigation into the data on your own. You want to do classification, but you're not sure on what.\n",
    "\n",
    "1. Create a hypothesis or hypotheses about the data based on whatever you are interested in, as long as it is predicting a category of some kind (classification).\n",
    "2. Explore the data visually (ideally related to this hypothesis).\n",
    "3. Build one or more classification models to predict your target variable. **Your modeling should include gridsearching to find optimal model parameters.**\n",
    "4. Evaluate the performance of your model. Explain why your model may have chosen those specific parameters during the gridsearch process.\n",
    "5. Write up what the model tells you. Does it validate or invalidate your hypothesis? Write this up as if for a non-technical audience."
   ]
  },
  {
   "cell_type": "code",
   "execution_count": null,
   "metadata": {
    "collapsed": true
   },
   "outputs": [],
   "source": []
  },
  {
   "cell_type": "markdown",
   "metadata": {},
   "source": [
    "<img src=\"http://imgur.com/GCAf1UX.png\" style=\"float: left; margin: 25px 15px 0px 0px; height: 25px\">\n",
    "\n",
    "## 6. ROC and Precision-recall\n",
    "\n",
    "---\n",
    "\n",
    "Some categories have fewer overall businesses than others. Choose two categories of businesses to predict, one that makes your proportion of target classes as even as possible, and another that has very few businesses and thus makes the target varible imbalanced.\n",
    "\n",
    "1. Create two classification models predicting these categories. Optimize the models and choose variables as you see fit.\n",
    "- Make confusion matrices for your models. Describe the confusion matrices and explain what they tell you about your models' performance.\n",
    "- Make ROC curves for both models. What do the ROC curves describe and what do they tell you about your model?\n",
    "- Make Precision-Recall curves for the models. What do they describe? How do they compare to the ROC curves?\n",
    "- Explain when Precision-Recall may be preferable to ROC. Is that the case in either of your models?"
   ]
  },
  {
   "cell_type": "code",
   "execution_count": null,
   "metadata": {
    "collapsed": true
   },
   "outputs": [],
   "source": []
  }
 ],
 "metadata": {
  "anaconda-cloud": {},
  "kernelspec": {
   "display_name": "Python [conda env:dsi]",
   "language": "python",
   "name": "conda-env-dsi-py"
  },
  "language_info": {
   "codemirror_mode": {
    "name": "ipython",
    "version": 2
   },
   "file_extension": ".py",
   "mimetype": "text/x-python",
   "name": "python",
   "nbconvert_exporter": "python",
   "pygments_lexer": "ipython2",
   "version": "2.7.12"
  }
 },
 "nbformat": 4,
 "nbformat_minor": 0
}
