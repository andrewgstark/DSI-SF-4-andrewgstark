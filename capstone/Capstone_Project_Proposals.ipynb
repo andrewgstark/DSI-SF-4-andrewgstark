{
 "cells": [
  {
   "cell_type": "markdown",
   "metadata": {},
   "source": [
    "# 1. Using Data Science to Detect Pension Spiking \n",
    "## Project Goal\n",
    "By applying data science techniques, develop a system to detect pension spiking by retiring public sector employees. \n",
    "## Available Datasets\n",
    "With the proliferation of open government initiatives, more public agencies are disclosing the salary data of their employees. State and local governments now routinely post files of payroll and salary data on their Web sites. The State releases payroll information about all public employees, though without identifiers. And taxpayer advocacy groups consolidate data to make it more accessible:\n",
    "> http://transparentcalifornia.com\n",
    "\n",
    "\n",
    "\n",
    "\n",
    "## What is pension spiking and why is it a problem?\n",
    "\n",
    "From Wikipedia\n",
    "> Pension spiking, sometimes referred to as \"salary spiking\",[1] is the process whereby public sector employees grant themselves large raises or otherwise artificially inflate their compensation in the years immediately preceding retirement in order to receive larger pensions than they otherwise would be entitled to receive. This inflates the pension payments to the retirees and, upon retirement of the \"spikee\", transfers the burden of making payments from the employee's employer to a public pension fund. **This practice is considered a significant contributor to the high cost of public sector pensions.**\n",
    "\n",
    "\n",
    "## How do pension funds protect themselves against pension spiking\n",
    "When their by-laws allows, pension funds actively pursue pensions spikers and, when caught, demand repayment of excess benefits from the retiree. Several methods are used to find pension spikingm including:\n",
    "1. Auditing payroll records\n",
    "> see https://www.calpers.ca.gov/page/newsroom/calpers-news/2016/audit-exposes-pension-spiking-risk-management-authority\n",
    "2. Tips and informants\n",
    "> see https://www.calpers.ca.gov/docs/board-agendas/201409/risk/item4g-04.pdf\n",
    "\n",
    "## How can this project help with pension spiking?\n",
    "Analyzing payroll records using data science techniques can identify pay patterns consistent with pension spiking. This analysis can complement the existing ways pension funds detecte spiking:\n",
    "* Attempt to corroborate tips from informants, before starting to investigate.\n",
    "* Direct auditors to departments and individuals where spiking is most likely and where recovery can be maximized. This will help ensure expensive audit resources are used most productively."
   ]
  },
  {
   "cell_type": "markdown",
   "metadata": {
    "collapsed": true
   },
   "source": [
    "## 2. Solar Energy Production in California\n",
    "### The Data Sets\n",
    "The California Solar Initiative (CSI) publishes data about the rooftop (residential and commercial) solar panel installations in the state. In addition, they publish another dataset that shows the amount of electricity generated from over 500 solar installations, reported in 15 minute increments. \n",
    "> http://www.californiadgstats.ca.gov/downloads/\n",
    "\n",
    "### The Project\n",
    "Use the solar datasets and other public datasets to better understand how rooftop solar installations contribute to California's electricity generation. Some ideas include:\n",
    "* Correlating electricity generation with weather  patterns\n",
    "* Correlating the location of rooftop solar installations with socio-economic data of the property owners\n",
    "* Determining the California Solar Initiative's return on investment\n",
    "* Forecasting how rooftop solar installations can provide more of the state's electricity needs\n",
    "etc.\n",
    "\n",
    "\n",
    "\n"
   ]
  },
  {
   "cell_type": "markdown",
   "metadata": {
    "collapsed": true
   },
   "source": [
    "## 3. California Schools Academic Performance\n",
    "### The Data Sets\n",
    "The California Department of Education publishes many data sets about schools and students, including metrics that track performance, demographics and finances. \n",
    "> http://www.cde.ca.gov/ds/dd/\n",
    "\n",
    "### The Project\n",
    "Correlate API (Academic Performance) with other information:\n",
    "* real estate  values\n",
    "* community demographics\n",
    "* access to cultural and sports amenities\n",
    "* economic base of the community\n",
    "* college acceptance, SAT scores, etc."
   ]
  },
  {
   "cell_type": "code",
   "execution_count": null,
   "metadata": {
    "collapsed": true
   },
   "outputs": [],
   "source": []
  }
 ],
 "metadata": {
  "anaconda-cloud": {},
  "kernelspec": {
   "display_name": "Python [conda env:dsi]",
   "language": "python",
   "name": "conda-env-dsi-py"
  },
  "language_info": {
   "codemirror_mode": {
    "name": "ipython",
    "version": 2
   },
   "file_extension": ".py",
   "mimetype": "text/x-python",
   "name": "python",
   "nbconvert_exporter": "python",
   "pygments_lexer": "ipython2",
   "version": "2.7.12"
  }
 },
 "nbformat": 4,
 "nbformat_minor": 1
}
